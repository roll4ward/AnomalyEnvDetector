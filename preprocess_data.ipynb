{
 "cells": [
  {
   "cell_type": "code",
   "execution_count": 1,
   "metadata": {},
   "outputs": [],
   "source": [
    "import numpy as np\n",
    "import pandas as pd"
   ]
  },
  {
   "cell_type": "code",
   "execution_count": 2,
   "metadata": {},
   "outputs": [],
   "source": [
    "smd_train_data = np.load(\"/home/joono/Anomaly-Transformer/dataset/SMD/SMD_train.npy\")\n",
    "smd_test_data = np.load(\"/home/joono/Anomaly-Transformer/dataset/SMD/SMD_test.npy\")\n",
    "smd_label_data = np.load(\"/home/joono/Anomaly-Transformer/dataset/SMD/SMD_test_label.npy\")"
   ]
  },
  {
   "cell_type": "code",
   "execution_count": 3,
   "metadata": {},
   "outputs": [
    {
     "data": {
      "text/plain": [
       "((708405, 38), (708420, 38), (708420,))"
      ]
     },
     "execution_count": 3,
     "metadata": {},
     "output_type": "execute_result"
    }
   ],
   "source": [
    "smd_train_data.shape, smd_test_data.shape, smd_label_data.shape"
   ]
  },
  {
   "cell_type": "code",
   "execution_count": 4,
   "metadata": {},
   "outputs": [],
   "source": [
    "sample_df = pd.read_csv(\"/home/joono/AnomalyEnvDetector/dataset/SmartFarm/SmartFarm_tomato_env_sensor_data.csv\")\n",
    "sample_df_flag = sample_df.copy()\n",
    "\n",
    "for column in sample_df.columns:\n",
    "    if column == \"index\" or column == \"facilityId\" or column == \"measDate\": continue\n",
    "    # Create a new column with '_flag' suffix that checks for NaN\n",
    "    sample_df_flag[column + '_NaN'] = sample_df[column].isna().astype(float)\n",
    "    sample_df_flag[column] = pd.to_numeric(sample_df_flag[column], errors=\"coerce\")\n",
    "\n",
    "sample_df_flag_fillnan = sample_df_flag.fillna(0)\n",
    "np_time_stamps = sample_df_flag_fillnan[\"measDate\"].to_numpy()\n",
    "\n",
    "sample_df_flag_fillnan_onlydata = sample_df_flag_fillnan.drop(columns=['measDate'], inplace=False)\n",
    "np_df_flat_fillna = sample_df_flag_fillnan_onlydata.to_numpy()"
   ]
  },
  {
   "cell_type": "code",
   "execution_count": 5,
   "metadata": {},
   "outputs": [
    {
     "name": "stdout",
     "output_type": "stream",
     "text": [
      "               index             CI             DT             HI  \\\n",
      "count  503695.000000  480401.000000  178377.000000  492211.000000   \n",
      "mean   251847.000000     507.303395      20.043280      91.506781   \n",
      "std    145404.366257     385.668418      34.910576      42.341709   \n",
      "min         0.000000       0.000000       0.000000       0.000000   \n",
      "25%    125923.500000     320.600000      12.000000      66.620000   \n",
      "50%    251847.000000     426.100000      16.000000      88.970000   \n",
      "75%    377770.500000     589.700000      22.000000      97.920000   \n",
      "max    503694.000000    3478.100000     655.000000     300.000000   \n",
      "\n",
      "                 IR             TI             HL             PL  \\\n",
      "count  13315.000000  499482.000000  451466.000000  104944.000000   \n",
      "mean     177.072472      21.087261      30.271563       1.195280   \n",
      "std      332.493118      10.887839      41.023416       2.446872   \n",
      "min        0.000000     -24.000000    -324.000000       0.000000   \n",
      "25%        0.000000      14.100000       0.000000       0.000000   \n",
      "50%        0.000000      18.670000       0.000000       0.000000   \n",
      "75%      212.625000      25.380000      60.000000       0.000000   \n",
      "max     2211.620000     114.000000     296.310000      12.000000   \n",
      "\n",
      "                 HE             RP         CI_NaN         DT_NaN  \\\n",
      "count  52401.000000  452334.000000  503695.000000  503695.000000   \n",
      "mean      57.845446     185.300595       0.046246       0.645863   \n",
      "std       27.545222    1240.181992       0.210018       0.478251   \n",
      "min        0.000000       0.000000       0.000000       0.000000   \n",
      "25%       44.200000       0.000000       0.000000       0.000000   \n",
      "50%       64.500000       0.000000       0.000000       1.000000   \n",
      "75%       78.550000       0.000000       0.000000       1.000000   \n",
      "max      152.000000   20000.000000       1.000000       1.000000   \n",
      "\n",
      "              HI_NaN         IR_NaN         TI_NaN         HL_NaN  \\\n",
      "count  503695.000000  503695.000000  503695.000000  503695.000000   \n",
      "mean        0.022800       0.973565       0.008364       0.103692   \n",
      "std         0.149264       0.160424       0.091073       0.304861   \n",
      "min         0.000000       0.000000       0.000000       0.000000   \n",
      "25%         0.000000       1.000000       0.000000       0.000000   \n",
      "50%         0.000000       1.000000       0.000000       0.000000   \n",
      "75%         0.000000       1.000000       0.000000       0.000000   \n",
      "max         1.000000       1.000000       1.000000       1.000000   \n",
      "\n",
      "              PL_NaN         HE_NaN         RP_NaN  \n",
      "count  503695.000000  503695.000000  503695.000000  \n",
      "mean        0.791652       0.895967       0.101968  \n",
      "std         0.406128       0.305304       0.302607  \n",
      "min         0.000000       0.000000       0.000000  \n",
      "25%         1.000000       1.000000       0.000000  \n",
      "50%         1.000000       1.000000       0.000000  \n",
      "75%         1.000000       1.000000       0.000000  \n",
      "max         1.000000       1.000000       1.000000  \n"
     ]
    }
   ],
   "source": [
    "print(sample_df_flag.describe())"
   ]
  },
  {
   "cell_type": "code",
   "execution_count": 6,
   "metadata": {},
   "outputs": [],
   "source": [
    "sample_df.to_csv(\"results_input.csv\")\n",
    "sample_df_flag.to_csv(\"results_flag.csv\")\n",
    "sample_df_flag_fillnan.to_csv('results_flag_fillna.csv')"
   ]
  },
  {
   "cell_type": "code",
   "execution_count": 25,
   "metadata": {},
   "outputs": [],
   "source": [
    "from datetime import datetime\n",
    "\n",
    "def get_hour_index_of_year(timestamp):\n",
    "    # Parse the timestamp string to a datetime object\n",
    "    date_time_obj = datetime.strptime(timestamp, '%Y-%m-%d %H:%M:%S')\n",
    "    \n",
    "    # Calculate the day of the year from the datetime object\n",
    "    day_of_year = date_time_obj.timetuple().tm_yday\n",
    "    \n",
    "    # Get the hour from the datetime object\n",
    "    hour_of_day = date_time_obj.hour\n",
    "    \n",
    "    # Calculate the hour index within the year (0-indexed)\n",
    "    hour_index_of_year = (day_of_year - 1) * 24 + hour_of_day\n",
    "    \n",
    "    return hour_index_of_year"
   ]
  },
  {
   "cell_type": "code",
   "execution_count": 31,
   "metadata": {},
   "outputs": [
    {
     "name": "stdout",
     "output_type": "stream",
     "text": [
      "503695 [6552 6553 6554 ... 8664 8665 8666]\n",
      "503695 (503695, 18) [508.    16.    87.33   0.    19.67   0.     0.     0.     0.     0.\n",
      "   0.     0.     1.     0.     0.     1.     1.     0.  ]\n"
     ]
    }
   ],
   "source": [
    "df = pd.read_csv(\"/home/joono/AnomalyEnvDetector/results_flag_fillna.csv\")\n",
    "time_indices = df[\"measDate\"].apply(get_hour_index_of_year).to_numpy()\n",
    "\n",
    "# time_stamps = df[\"measDate\"].to_numpy()\n",
    "df.drop(columns=[\"index\", \"facilityId\", \"measDate\", \"Unnamed: 0\"], inplace=True) # Unnamed: 0 은 pandas로 pivoting 하는 과정에서 생김\n",
    "sensor_datas = df.to_numpy()\n",
    "\n",
    "print(len(time_indices), time_indices)\n",
    "print(len(sensor_datas), sensor_datas.shape, sensor_datas[0])"
   ]
  },
  {
   "cell_type": "code",
   "execution_count": 36,
   "metadata": {},
   "outputs": [
    {
     "data": {
      "text/plain": [
       "((503695, 19),\n",
       " array([6.552e+03, 5.080e+02, 1.600e+01, 8.733e+01, 0.000e+00, 1.967e+01,\n",
       "        0.000e+00, 0.000e+00, 0.000e+00, 0.000e+00, 0.000e+00, 0.000e+00,\n",
       "        0.000e+00, 1.000e+00, 0.000e+00, 0.000e+00, 1.000e+00, 1.000e+00,\n",
       "        0.000e+00]))"
      ]
     },
     "execution_count": 36,
     "metadata": {},
     "output_type": "execute_result"
    }
   ],
   "source": [
    "dataset = np.concatenate((time_indices.reshape((len(time_indices), 1)), sensor_datas), axis=1)\n",
    "dataset.shape, dataset[0]"
   ]
  },
  {
   "cell_type": "code",
   "execution_count": 37,
   "metadata": {},
   "outputs": [],
   "source": [
    "np.savez(\"/home/joono/AnomalyEnvDetector/dataset/SmartFarm/smartfarm_train.npz\", dataset)"
   ]
  },
  {
   "cell_type": "code",
   "execution_count": 62,
   "metadata": {},
   "outputs": [],
   "source": [
    "def positional_encoding(time_steps, dimension):\n",
    "    assert dimension % 2 == 0, \"Dimension must be even.\"\n",
    "    position = np.arange(time_steps).reshape(-1, 1)\n",
    "    div_term = np.exp(np.arange(0, dimension, 2) * -(np.log(10000.0) / dimension))\n",
    "    pe = np.zeros((time_steps, dimension))\n",
    "    pe[:, 0::2] = np.sin(position * div_term)\n",
    "    pe[:, 1::2] = np.cos(position * div_term)\n",
    "    return pe\n",
    "\n",
    "# Specify dimension based on your model requirements\n",
    "dimension = 14 # num of predefined columns (We will use only up to 13)\n",
    "pos_encodings = positional_encoding(365 * 24, dimension) # 8760 = 365 days * 24 hours"
   ]
  },
  {
   "cell_type": "code",
   "execution_count": 64,
   "metadata": {},
   "outputs": [],
   "source": [
    "for i, time_stamp in enumerate(np_time_stamps):\n",
    "    tidx = get_hour_index_of_year(time_stamp)\n",
    "    np_df_flat_fillna[i, :13] += pos_encodings[tidx, :13]    "
   ]
  },
  {
   "cell_type": "code",
   "execution_count": 69,
   "metadata": {},
   "outputs": [
    {
     "data": {
      "text/plain": [
       "array([-0.82183501, -0.56972556, 95.26263333, -0.93576158,  0.42414733,\n",
       "        0.9055932 , -0.89521588,  0.44563274,  0.98335725,  0.18168246,\n",
       "        0.36383781,  0.93146232,  0.09973343,  1.        ,  1.        ,\n",
       "        0.        ,  1.        ,  1.        ,  1.        ,  1.        ,\n",
       "        1.        ,  1.        ,  1.        ,  1.        ,  1.        ,\n",
       "        0.        ])"
      ]
     },
     "execution_count": 69,
     "metadata": {},
     "output_type": "execute_result"
    }
   ],
   "source": [
    "np_df_flat_fillna[4]"
   ]
  },
  {
   "cell_type": "code",
   "execution_count": 58,
   "metadata": {},
   "outputs": [
    {
     "data": {
      "text/plain": [
       "array([0., 1., 0., 1., 0., 1., 0., 1., 0., 1., 0., 1., 0., 1.])"
      ]
     },
     "execution_count": 58,
     "metadata": {},
     "output_type": "execute_result"
    }
   ],
   "source": [
    "pos_encodings[0]"
   ]
  },
  {
   "cell_type": "code",
   "execution_count": 70,
   "metadata": {},
   "outputs": [],
   "source": [
    "np.savez(\"sample_data.npz\", np_df_flat_fillna)"
   ]
  },
  {
   "cell_type": "code",
   "execution_count": 71,
   "metadata": {},
   "outputs": [
    {
     "data": {
      "text/plain": [
       "(2083, 26)"
      ]
     },
     "execution_count": 71,
     "metadata": {},
     "output_type": "execute_result"
    }
   ],
   "source": [
    "np_df_flat_fillna.shape"
   ]
  },
  {
   "cell_type": "code",
   "execution_count": 5,
   "metadata": {},
   "outputs": [],
   "source": [
    "data = np.load(\"/home/joono/Anomaly-Transformer/dataset/SmartFarm/smartfarm_train.npz\")"
   ]
  },
  {
   "cell_type": "code",
   "execution_count": 13,
   "metadata": {},
   "outputs": [
    {
     "data": {
      "text/plain": [
       "array([[ 6.06276017e+02,  9.94364266e-01,  9.37605845e+01, ...,\n",
       "         1.00000000e+00,  1.00000000e+00,  1.00000000e+00],\n",
       "       [ 8.94010170e-01,  4.48046667e-01,  9.60588643e+01, ...,\n",
       "         1.00000000e+00,  1.00000000e+00,  0.00000000e+00],\n",
       "       [ 6.46360054e+02, -5.10202971e-01,  9.55614104e+01, ...,\n",
       "         1.00000000e+00,  1.00000000e+00,  1.00000000e+00],\n",
       "       ...,\n",
       "       [ 5.67344369e+02,  9.14596145e-01,  9.94832508e+01, ...,\n",
       "         1.00000000e+00,  1.00000000e+00,  1.00000000e+00],\n",
       "       [ 4.36178087e+02,  1.53894037e-01,  9.78326470e+01, ...,\n",
       "         1.00000000e+00,  1.00000000e+00,  1.00000000e+00],\n",
       "       [ 6.75573363e+02, -7.48297539e-01,  9.91062075e+01, ...,\n",
       "         1.00000000e+00,  1.00000000e+00,  1.00000000e+00]])"
      ]
     },
     "execution_count": 13,
     "metadata": {},
     "output_type": "execute_result"
    }
   ],
   "source": [
    "data['arr_0']"
   ]
  },
  {
   "cell_type": "code",
   "execution_count": null,
   "metadata": {},
   "outputs": [],
   "source": []
  }
 ],
 "metadata": {
  "kernelspec": {
   "display_name": "pl",
   "language": "python",
   "name": "python3"
  },
  "language_info": {
   "codemirror_mode": {
    "name": "ipython",
    "version": 3
   },
   "file_extension": ".py",
   "mimetype": "text/x-python",
   "name": "python",
   "nbconvert_exporter": "python",
   "pygments_lexer": "ipython3",
   "version": "3.10.13"
  }
 },
 "nbformat": 4,
 "nbformat_minor": 2
}
