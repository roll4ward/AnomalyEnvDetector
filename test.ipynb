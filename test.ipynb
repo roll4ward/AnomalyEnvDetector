{
 "cells": [
  {
   "cell_type": "code",
   "execution_count": 5,
   "metadata": {},
   "outputs": [],
   "source": [
    "import os\n",
    "import numpy as np\n",
    "\n",
    "import torch\n",
    "\n",
    "from model.AnomalyTransformer import AnomalyTransformer\n",
    "from sklearn.preprocessing import StandardScaler"
   ]
  },
  {
   "cell_type": "code",
   "execution_count": 22,
   "metadata": {},
   "outputs": [],
   "source": [
    "model = AnomalyTransformer(win_size=100, enc_in=26, c_out=26, e_layers=3)\n",
    "model.load_state_dict(torch.load(\"/home/joono/Anomaly-Transformer/checkpoints/SmartFarm_checkpoint.pth\"))\n",
    "model = model.eval()\n",
    "\n",
    "model = model.to(\"cuda\")\n",
    "\n",
    "temperature = 50"
   ]
  },
  {
   "cell_type": "code",
   "execution_count": 23,
   "metadata": {},
   "outputs": [],
   "source": [
    "def preprocess_data(smartfarm_data_path=\"/home/joono/Anomaly-Transformer/dataset/SmartFarm/smartfarm_train.npz\"):\n",
    "    scaler = StandardScaler()\n",
    "    data = np.load(smartfarm_data_path)['arr_0']\n",
    "    scaler.fit(data)\n",
    "    data = scaler.transform(data)\n",
    "    \n",
    "    return data"
   ]
  },
  {
   "cell_type": "code",
   "execution_count": 24,
   "metadata": {},
   "outputs": [],
   "source": [
    "data = preprocess_data()"
   ]
  },
  {
   "cell_type": "code",
   "execution_count": 25,
   "metadata": {},
   "outputs": [
    {
     "data": {
      "text/plain": [
       "(2083, 26)"
      ]
     },
     "execution_count": 25,
     "metadata": {},
     "output_type": "execute_result"
    }
   ],
   "source": [
    "data.shape"
   ]
  },
  {
   "cell_type": "code",
   "execution_count": 26,
   "metadata": {},
   "outputs": [],
   "source": [
    "input = torch.tensor(np.float32(data[:100])).to('cuda')"
   ]
  },
  {
   "cell_type": "code",
   "execution_count": 27,
   "metadata": {},
   "outputs": [
    {
     "data": {
      "text/plain": [
       "torch.Size([100, 26])"
      ]
     },
     "execution_count": 27,
     "metadata": {},
     "output_type": "execute_result"
    }
   ],
   "source": [
    "input.shape"
   ]
  },
  {
   "cell_type": "code",
   "execution_count": 28,
   "metadata": {},
   "outputs": [],
   "source": [
    "output = model(input.unsqueeze(0))"
   ]
  },
  {
   "cell_type": "code",
   "execution_count": 41,
   "metadata": {},
   "outputs": [],
   "source": [
    "enc_out, _, _, _ = output\n",
    "enc_out = enc_out.squeeze()"
   ]
  },
  {
   "cell_type": "code",
   "execution_count": 40,
   "metadata": {},
   "outputs": [
    {
     "name": "stdout",
     "output_type": "stream",
     "text": [
      "torch.Size([1, 100, 26])\n"
     ]
    }
   ],
   "source": [
    "print(enc_out.shape)"
   ]
  },
  {
   "cell_type": "code",
   "execution_count": 45,
   "metadata": {},
   "outputs": [
    {
     "data": {
      "text/plain": [
       "(tensor([ 2.0168e-02, -3.7380e-01, -1.3356e+00,  2.4067e-01, -4.2944e-01,\n",
       "          4.0240e-01,  1.5946e-01, -4.5721e-01, -2.4849e-01,  2.2869e-01,\n",
       "          2.5831e-01, -4.5651e-01, -4.6496e-01,  1.7719e-02, -9.4663e-01,\n",
       "         -4.0835e-01, -7.4539e-01,  3.8254e-01,  5.3406e-01, -7.0296e-01,\n",
       "          4.8117e-01, -3.0286e-01,  6.5355e-01,  3.2673e-01, -2.9890e-01,\n",
       "          1.6240e-04], device='cuda:0', grad_fn=<SelectBackward0>),\n",
       " array([ 1.45405196,  1.40556106, -0.31318018, -0.19855467,  0.21612017,\n",
       "         1.44715231, -0.78127949, -1.29466313,  1.12644655,  0.2370979 ,\n",
       "         0.32008685,  1.65247982, -1.64353168, -0.12881561,  0.        ,\n",
       "        -0.11882253,  0.        ,  0.        ,  0.        , -0.14518413,\n",
       "         1.56118344,  0.        ,  0.        ,  0.        ,  0.        ,\n",
       "         2.01390795]))"
      ]
     },
     "execution_count": 45,
     "metadata": {},
     "output_type": "execute_result"
    }
   ],
   "source": [
    "enc_out[1], data[0]"
   ]
  },
  {
   "cell_type": "code",
   "execution_count": null,
   "metadata": {},
   "outputs": [],
   "source": []
  }
 ],
 "metadata": {
  "kernelspec": {
   "display_name": "base",
   "language": "python",
   "name": "python3"
  },
  "language_info": {
   "codemirror_mode": {
    "name": "ipython",
    "version": 3
   },
   "file_extension": ".py",
   "mimetype": "text/x-python",
   "name": "python",
   "nbconvert_exporter": "python",
   "pygments_lexer": "ipython3",
   "version": "3.10.13"
  }
 },
 "nbformat": 4,
 "nbformat_minor": 2
}
