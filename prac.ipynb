{
 "cells": [
  {
   "cell_type": "code",
   "execution_count": 2,
   "metadata": {},
   "outputs": [],
   "source": [
    "import numpy as np\n",
    "import pandas as pd"
   ]
  },
  {
   "cell_type": "code",
   "execution_count": 72,
   "metadata": {},
   "outputs": [],
   "source": [
    "smd_train_data = np.load(\"/home/joono/Anomaly-Transformer/dataset/SMD/SMD_train.npy\")\n",
    "smd_test_data = np.load(\"/home/joono/Anomaly-Transformer/dataset/SMD/SMD_test.npy\")\n",
    "smd_label_data = np.load(\"/home/joono/Anomaly-Transformer/dataset/SMD/SMD_test_label.npy\")"
   ]
  },
  {
   "cell_type": "code",
   "execution_count": 73,
   "metadata": {},
   "outputs": [
    {
     "data": {
      "text/plain": [
       "((708405, 38), (708420, 38), (708420,))"
      ]
     },
     "execution_count": 73,
     "metadata": {},
     "output_type": "execute_result"
    }
   ],
   "source": [
    "smd_train_data.shape, smd_test_data.shape, smd_label_data.shape"
   ]
  },
  {
   "cell_type": "code",
   "execution_count": 59,
   "metadata": {},
   "outputs": [],
   "source": [
    "sample_df = pd.read_csv(\"results.csv\")\n",
    "sample_df_flag = sample_df.copy()\n",
    "\n",
    "for column in sample_df.columns:\n",
    "    if column == \"measDate\": continue\n",
    "    # Create a new column with '_flag' suffix that checks for NaN\n",
    "    sample_df_flag[column + '_NaN'] = sample_df[column].isna().astype(float)\n",
    "\n",
    "for column in sample_df_flag.columns:\n",
    "    if column == \"measDate\": continue\n",
    "    # Create a new column with '_flag' suffix that checks for NaN\n",
    "    sample_df_flag[column] = pd.to_numeric(sample_df_flag[column], errors=\"coerce\")\n",
    "    \n",
    "sample_df_flag_fillnan = sample_df_flag.fillna(0)\n",
    "\n",
    "np_time_stamps = sample_df_flag_fillnan[\"measDate\"].to_numpy()\n",
    "\n",
    "sample_df_flag_fillnan_onlydata = sample_df_flag_fillnan.drop(columns=['measDate'], inplace=False)\n",
    "np_df_flat_fillna = sample_df_flag_fillnan_onlydata.to_numpy()"
   ]
  },
  {
   "cell_type": "code",
   "execution_count": 60,
   "metadata": {},
   "outputs": [
    {
     "data": {
      "text/html": [
       "<div>\n",
       "<style scoped>\n",
       "    .dataframe tbody tr th:only-of-type {\n",
       "        vertical-align: middle;\n",
       "    }\n",
       "\n",
       "    .dataframe tbody tr th {\n",
       "        vertical-align: top;\n",
       "    }\n",
       "\n",
       "    .dataframe thead th {\n",
       "        text-align: right;\n",
       "    }\n",
       "</style>\n",
       "<table border=\"1\" class=\"dataframe\">\n",
       "  <thead>\n",
       "    <tr style=\"text-align: right;\">\n",
       "      <th></th>\n",
       "      <th>CI</th>\n",
       "      <th>DT</th>\n",
       "      <th>HI</th>\n",
       "      <th>ID</th>\n",
       "      <th>IR</th>\n",
       "      <th>IS</th>\n",
       "      <th>TI</th>\n",
       "      <th>HL</th>\n",
       "      <th>PL</th>\n",
       "      <th>WC</th>\n",
       "      <th>...</th>\n",
       "      <th>ID_NaN</th>\n",
       "      <th>IR_NaN</th>\n",
       "      <th>IS_NaN</th>\n",
       "      <th>TI_NaN</th>\n",
       "      <th>HL_NaN</th>\n",
       "      <th>PL_NaN</th>\n",
       "      <th>WC_NaN</th>\n",
       "      <th>HE_NaN</th>\n",
       "      <th>HR_NaN</th>\n",
       "      <th>RP_NaN</th>\n",
       "    </tr>\n",
       "  </thead>\n",
       "  <tbody>\n",
       "    <tr>\n",
       "      <th>count</th>\n",
       "      <td>2049.000000</td>\n",
       "      <td>0.0</td>\n",
       "      <td>2054.000000</td>\n",
       "      <td>0.0</td>\n",
       "      <td>0.0</td>\n",
       "      <td>0.0</td>\n",
       "      <td>2040.000000</td>\n",
       "      <td>1477.000000</td>\n",
       "      <td>0.0</td>\n",
       "      <td>0.0</td>\n",
       "      <td>...</td>\n",
       "      <td>2083.0</td>\n",
       "      <td>2083.0</td>\n",
       "      <td>2083.0</td>\n",
       "      <td>2083.000000</td>\n",
       "      <td>2083.000000</td>\n",
       "      <td>2083.0</td>\n",
       "      <td>2083.0</td>\n",
       "      <td>2083.0</td>\n",
       "      <td>2083.0</td>\n",
       "      <td>2083.000000</td>\n",
       "    </tr>\n",
       "    <tr>\n",
       "      <th>mean</th>\n",
       "      <td>406.633367</td>\n",
       "      <td>NaN</td>\n",
       "      <td>98.805078</td>\n",
       "      <td>NaN</td>\n",
       "      <td>NaN</td>\n",
       "      <td>NaN</td>\n",
       "      <td>18.507789</td>\n",
       "      <td>5.125037</td>\n",
       "      <td>NaN</td>\n",
       "      <td>NaN</td>\n",
       "      <td>...</td>\n",
       "      <td>1.0</td>\n",
       "      <td>1.0</td>\n",
       "      <td>1.0</td>\n",
       "      <td>0.020643</td>\n",
       "      <td>0.290927</td>\n",
       "      <td>1.0</td>\n",
       "      <td>1.0</td>\n",
       "      <td>1.0</td>\n",
       "      <td>1.0</td>\n",
       "      <td>0.197792</td>\n",
       "    </tr>\n",
       "    <tr>\n",
       "      <th>std</th>\n",
       "      <td>133.296646</td>\n",
       "      <td>NaN</td>\n",
       "      <td>1.813378</td>\n",
       "      <td>NaN</td>\n",
       "      <td>NaN</td>\n",
       "      <td>NaN</td>\n",
       "      <td>3.918314</td>\n",
       "      <td>0.849521</td>\n",
       "      <td>NaN</td>\n",
       "      <td>NaN</td>\n",
       "      <td>...</td>\n",
       "      <td>0.0</td>\n",
       "      <td>0.0</td>\n",
       "      <td>0.0</td>\n",
       "      <td>0.142221</td>\n",
       "      <td>0.454299</td>\n",
       "      <td>0.0</td>\n",
       "      <td>0.0</td>\n",
       "      <td>0.0</td>\n",
       "      <td>0.0</td>\n",
       "      <td>0.398430</td>\n",
       "    </tr>\n",
       "    <tr>\n",
       "      <th>min</th>\n",
       "      <td>1.270000</td>\n",
       "      <td>NaN</td>\n",
       "      <td>85.180000</td>\n",
       "      <td>NaN</td>\n",
       "      <td>NaN</td>\n",
       "      <td>NaN</td>\n",
       "      <td>11.670000</td>\n",
       "      <td>2.320000</td>\n",
       "      <td>NaN</td>\n",
       "      <td>NaN</td>\n",
       "      <td>...</td>\n",
       "      <td>1.0</td>\n",
       "      <td>1.0</td>\n",
       "      <td>1.0</td>\n",
       "      <td>0.000000</td>\n",
       "      <td>0.000000</td>\n",
       "      <td>1.0</td>\n",
       "      <td>1.0</td>\n",
       "      <td>1.0</td>\n",
       "      <td>1.0</td>\n",
       "      <td>0.000000</td>\n",
       "    </tr>\n",
       "    <tr>\n",
       "      <th>25%</th>\n",
       "      <td>289.230000</td>\n",
       "      <td>NaN</td>\n",
       "      <td>98.760000</td>\n",
       "      <td>NaN</td>\n",
       "      <td>NaN</td>\n",
       "      <td>NaN</td>\n",
       "      <td>15.527500</td>\n",
       "      <td>4.730000</td>\n",
       "      <td>NaN</td>\n",
       "      <td>NaN</td>\n",
       "      <td>...</td>\n",
       "      <td>1.0</td>\n",
       "      <td>1.0</td>\n",
       "      <td>1.0</td>\n",
       "      <td>0.000000</td>\n",
       "      <td>0.000000</td>\n",
       "      <td>1.0</td>\n",
       "      <td>1.0</td>\n",
       "      <td>1.0</td>\n",
       "      <td>1.0</td>\n",
       "      <td>0.000000</td>\n",
       "    </tr>\n",
       "    <tr>\n",
       "      <th>50%</th>\n",
       "      <td>385.540000</td>\n",
       "      <td>NaN</td>\n",
       "      <td>99.430000</td>\n",
       "      <td>NaN</td>\n",
       "      <td>NaN</td>\n",
       "      <td>NaN</td>\n",
       "      <td>17.465000</td>\n",
       "      <td>5.000000</td>\n",
       "      <td>NaN</td>\n",
       "      <td>NaN</td>\n",
       "      <td>...</td>\n",
       "      <td>1.0</td>\n",
       "      <td>1.0</td>\n",
       "      <td>1.0</td>\n",
       "      <td>0.000000</td>\n",
       "      <td>0.000000</td>\n",
       "      <td>1.0</td>\n",
       "      <td>1.0</td>\n",
       "      <td>1.0</td>\n",
       "      <td>1.0</td>\n",
       "      <td>0.000000</td>\n",
       "    </tr>\n",
       "    <tr>\n",
       "      <th>75%</th>\n",
       "      <td>517.350000</td>\n",
       "      <td>NaN</td>\n",
       "      <td>99.830000</td>\n",
       "      <td>NaN</td>\n",
       "      <td>NaN</td>\n",
       "      <td>NaN</td>\n",
       "      <td>20.582500</td>\n",
       "      <td>6.000000</td>\n",
       "      <td>NaN</td>\n",
       "      <td>NaN</td>\n",
       "      <td>...</td>\n",
       "      <td>1.0</td>\n",
       "      <td>1.0</td>\n",
       "      <td>1.0</td>\n",
       "      <td>0.000000</td>\n",
       "      <td>1.000000</td>\n",
       "      <td>1.0</td>\n",
       "      <td>1.0</td>\n",
       "      <td>1.0</td>\n",
       "      <td>1.0</td>\n",
       "      <td>0.000000</td>\n",
       "    </tr>\n",
       "    <tr>\n",
       "      <th>max</th>\n",
       "      <td>812.180000</td>\n",
       "      <td>NaN</td>\n",
       "      <td>100.000000</td>\n",
       "      <td>NaN</td>\n",
       "      <td>NaN</td>\n",
       "      <td>NaN</td>\n",
       "      <td>32.730000</td>\n",
       "      <td>7.000000</td>\n",
       "      <td>NaN</td>\n",
       "      <td>NaN</td>\n",
       "      <td>...</td>\n",
       "      <td>1.0</td>\n",
       "      <td>1.0</td>\n",
       "      <td>1.0</td>\n",
       "      <td>1.000000</td>\n",
       "      <td>1.000000</td>\n",
       "      <td>1.0</td>\n",
       "      <td>1.0</td>\n",
       "      <td>1.0</td>\n",
       "      <td>1.0</td>\n",
       "      <td>1.000000</td>\n",
       "    </tr>\n",
       "  </tbody>\n",
       "</table>\n",
       "<p>8 rows × 26 columns</p>\n",
       "</div>"
      ],
      "text/plain": [
       "                CI   DT           HI   ID   IR   IS           TI           HL  \\\n",
       "count  2049.000000  0.0  2054.000000  0.0  0.0  0.0  2040.000000  1477.000000   \n",
       "mean    406.633367  NaN    98.805078  NaN  NaN  NaN    18.507789     5.125037   \n",
       "std     133.296646  NaN     1.813378  NaN  NaN  NaN     3.918314     0.849521   \n",
       "min       1.270000  NaN    85.180000  NaN  NaN  NaN    11.670000     2.320000   \n",
       "25%     289.230000  NaN    98.760000  NaN  NaN  NaN    15.527500     4.730000   \n",
       "50%     385.540000  NaN    99.430000  NaN  NaN  NaN    17.465000     5.000000   \n",
       "75%     517.350000  NaN    99.830000  NaN  NaN  NaN    20.582500     6.000000   \n",
       "max     812.180000  NaN   100.000000  NaN  NaN  NaN    32.730000     7.000000   \n",
       "\n",
       "        PL   WC  ...  ID_NaN  IR_NaN  IS_NaN       TI_NaN       HL_NaN  \\\n",
       "count  0.0  0.0  ...  2083.0  2083.0  2083.0  2083.000000  2083.000000   \n",
       "mean   NaN  NaN  ...     1.0     1.0     1.0     0.020643     0.290927   \n",
       "std    NaN  NaN  ...     0.0     0.0     0.0     0.142221     0.454299   \n",
       "min    NaN  NaN  ...     1.0     1.0     1.0     0.000000     0.000000   \n",
       "25%    NaN  NaN  ...     1.0     1.0     1.0     0.000000     0.000000   \n",
       "50%    NaN  NaN  ...     1.0     1.0     1.0     0.000000     0.000000   \n",
       "75%    NaN  NaN  ...     1.0     1.0     1.0     0.000000     1.000000   \n",
       "max    NaN  NaN  ...     1.0     1.0     1.0     1.000000     1.000000   \n",
       "\n",
       "       PL_NaN  WC_NaN  HE_NaN  HR_NaN       RP_NaN  \n",
       "count  2083.0  2083.0  2083.0  2083.0  2083.000000  \n",
       "mean      1.0     1.0     1.0     1.0     0.197792  \n",
       "std       0.0     0.0     0.0     0.0     0.398430  \n",
       "min       1.0     1.0     1.0     1.0     0.000000  \n",
       "25%       1.0     1.0     1.0     1.0     0.000000  \n",
       "50%       1.0     1.0     1.0     1.0     0.000000  \n",
       "75%       1.0     1.0     1.0     1.0     0.000000  \n",
       "max       1.0     1.0     1.0     1.0     1.000000  \n",
       "\n",
       "[8 rows x 26 columns]"
      ]
     },
     "execution_count": 60,
     "metadata": {},
     "output_type": "execute_result"
    }
   ],
   "source": [
    "sample_df_flag.describe()"
   ]
  },
  {
   "cell_type": "code",
   "execution_count": 61,
   "metadata": {},
   "outputs": [],
   "source": [
    "sample_df.to_csv(\"results_input.csv\")\n",
    "sample_df_flag.to_csv(\"results_flag.csv\")\n",
    "sample_df_flag_fillnan.to_csv('results_flag_fillna.csv')"
   ]
  },
  {
   "cell_type": "code",
   "execution_count": 62,
   "metadata": {},
   "outputs": [],
   "source": [
    "def positional_encoding(time_steps, dimension):\n",
    "    assert dimension % 2 == 0, \"Dimension must be even.\"\n",
    "    position = np.arange(time_steps).reshape(-1, 1)\n",
    "    div_term = np.exp(np.arange(0, dimension, 2) * -(np.log(10000.0) / dimension))\n",
    "    pe = np.zeros((time_steps, dimension))\n",
    "    pe[:, 0::2] = np.sin(position * div_term)\n",
    "    pe[:, 1::2] = np.cos(position * div_term)\n",
    "    return pe\n",
    "\n",
    "# Specify dimension based on your model requirements\n",
    "dimension = 14 # num of predefined columns (We will use only up to 13)\n",
    "pos_encodings = positional_encoding(365 * 24, dimension) # 8760 = 365 days * 24 hours"
   ]
  },
  {
   "cell_type": "code",
   "execution_count": 63,
   "metadata": {},
   "outputs": [],
   "source": [
    "from datetime import datetime\n",
    "\n",
    "def get_hour_index_of_year(timestamp):\n",
    "    # Parse the timestamp string to a datetime object\n",
    "    date_time_obj = datetime.strptime(timestamp, '%Y-%m-%d %H:%M:%S')\n",
    "    \n",
    "    # Calculate the day of the year from the datetime object\n",
    "    day_of_year = date_time_obj.timetuple().tm_yday\n",
    "    \n",
    "    # Get the hour from the datetime object\n",
    "    hour_of_day = date_time_obj.hour\n",
    "    \n",
    "    # Calculate the hour index within the year (0-indexed)\n",
    "    hour_index_of_year = (day_of_year - 1) * 24 + hour_of_day\n",
    "    \n",
    "    return hour_index_of_year"
   ]
  },
  {
   "cell_type": "code",
   "execution_count": 64,
   "metadata": {},
   "outputs": [],
   "source": [
    "for i, time_stamp in enumerate(np_time_stamps):\n",
    "    tidx = get_hour_index_of_year(time_stamp)\n",
    "    np_df_flat_fillna[i, :13] += pos_encodings[tidx, :13]    "
   ]
  },
  {
   "cell_type": "code",
   "execution_count": 69,
   "metadata": {},
   "outputs": [
    {
     "data": {
      "text/plain": [
       "array([-0.82183501, -0.56972556, 95.26263333, -0.93576158,  0.42414733,\n",
       "        0.9055932 , -0.89521588,  0.44563274,  0.98335725,  0.18168246,\n",
       "        0.36383781,  0.93146232,  0.09973343,  1.        ,  1.        ,\n",
       "        0.        ,  1.        ,  1.        ,  1.        ,  1.        ,\n",
       "        1.        ,  1.        ,  1.        ,  1.        ,  1.        ,\n",
       "        0.        ])"
      ]
     },
     "execution_count": 69,
     "metadata": {},
     "output_type": "execute_result"
    }
   ],
   "source": [
    "np_df_flat_fillna[4]"
   ]
  },
  {
   "cell_type": "code",
   "execution_count": 58,
   "metadata": {},
   "outputs": [
    {
     "data": {
      "text/plain": [
       "array([0., 1., 0., 1., 0., 1., 0., 1., 0., 1., 0., 1., 0., 1.])"
      ]
     },
     "execution_count": 58,
     "metadata": {},
     "output_type": "execute_result"
    }
   ],
   "source": [
    "pos_encodings[0]"
   ]
  },
  {
   "cell_type": "code",
   "execution_count": 70,
   "metadata": {},
   "outputs": [],
   "source": [
    "np.savez(\"sample_data.npz\", np_df_flat_fillna)"
   ]
  },
  {
   "cell_type": "code",
   "execution_count": 71,
   "metadata": {},
   "outputs": [
    {
     "data": {
      "text/plain": [
       "(2083, 26)"
      ]
     },
     "execution_count": 71,
     "metadata": {},
     "output_type": "execute_result"
    }
   ],
   "source": [
    "np_df_flat_fillna.shape"
   ]
  },
  {
   "cell_type": "code",
   "execution_count": 5,
   "metadata": {},
   "outputs": [],
   "source": [
    "data = np.load(\"/home/joono/Anomaly-Transformer/dataset/SmartFarm/smartfarm_train.npz\")"
   ]
  },
  {
   "cell_type": "code",
   "execution_count": 13,
   "metadata": {},
   "outputs": [
    {
     "data": {
      "text/plain": [
       "array([[ 6.06276017e+02,  9.94364266e-01,  9.37605845e+01, ...,\n",
       "         1.00000000e+00,  1.00000000e+00,  1.00000000e+00],\n",
       "       [ 8.94010170e-01,  4.48046667e-01,  9.60588643e+01, ...,\n",
       "         1.00000000e+00,  1.00000000e+00,  0.00000000e+00],\n",
       "       [ 6.46360054e+02, -5.10202971e-01,  9.55614104e+01, ...,\n",
       "         1.00000000e+00,  1.00000000e+00,  1.00000000e+00],\n",
       "       ...,\n",
       "       [ 5.67344369e+02,  9.14596145e-01,  9.94832508e+01, ...,\n",
       "         1.00000000e+00,  1.00000000e+00,  1.00000000e+00],\n",
       "       [ 4.36178087e+02,  1.53894037e-01,  9.78326470e+01, ...,\n",
       "         1.00000000e+00,  1.00000000e+00,  1.00000000e+00],\n",
       "       [ 6.75573363e+02, -7.48297539e-01,  9.91062075e+01, ...,\n",
       "         1.00000000e+00,  1.00000000e+00,  1.00000000e+00]])"
      ]
     },
     "execution_count": 13,
     "metadata": {},
     "output_type": "execute_result"
    }
   ],
   "source": [
    "data['arr_0']"
   ]
  },
  {
   "cell_type": "code",
   "execution_count": null,
   "metadata": {},
   "outputs": [],
   "source": []
  }
 ],
 "metadata": {
  "kernelspec": {
   "display_name": "pl",
   "language": "python",
   "name": "python3"
  },
  "language_info": {
   "codemirror_mode": {
    "name": "ipython",
    "version": 3
   },
   "file_extension": ".py",
   "mimetype": "text/x-python",
   "name": "python",
   "nbconvert_exporter": "python",
   "pygments_lexer": "ipython3",
   "version": "3.11.5"
  }
 },
 "nbformat": 4,
 "nbformat_minor": 2
}
